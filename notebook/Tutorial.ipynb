{
 "cells": [
  {
   "cell_type": "markdown",
   "id": "08897262-0467-4375-b6a4-208485f7c399",
   "metadata": {},
   "source": [
    "## Prerequisite"
   ]
  },
  {
   "cell_type": "code",
   "execution_count": null,
   "id": "1452d35f-777d-488b-b6bb-d11d8d983fa5",
   "metadata": {},
   "outputs": [],
   "source": [
    "import ipywidgets as widgets"
   ]
  },
  {
   "cell_type": "markdown",
   "id": "37f09694-7ef0-43f7-8fe3-e8b0f61464e9",
   "metadata": {},
   "source": [
    "## Datasets"
   ]
  },
  {
   "cell_type": "markdown",
   "id": "6312c1e1",
   "metadata": {},
   "source": [
    "#### 4000 German Word List"
   ]
  },
  {
   "cell_type": "code",
   "execution_count": null,
   "id": "6da0d903-1681-43c9-9d45-f4e2361ec4d3",
   "metadata": {},
   "outputs": [],
   "source": [
    "from anki_ai_helper.dataset.german_word_list import GermanWordList\n",
    "\n",
    "word_list = GermanWordList()\n",
    "\n",
    "for i, row in enumerate(word_list):\n",
    "    print(row)\n",
    "    if i > 5:\n",
    "        break"
   ]
  },
  {
   "cell_type": "markdown",
   "id": "4f8b248c",
   "metadata": {},
   "source": [
    "#### Langenscheidt Words (0 to 2000)"
   ]
  },
  {
   "cell_type": "code",
   "execution_count": null,
   "id": "0525edc7",
   "metadata": {},
   "outputs": [],
   "source": [
    "from anki_ai_helper.dataset.langenscheidt_word_list import LangenscheidtWordList\n",
    "\n",
    "word_list = LangenscheidtWordList()\n",
    "\n",
    "for i, row in enumerate(word_list):\n",
    "    print(row.type, row.word, row.word_trans, row.sentence, row.sentence_trans)\n",
    "    if i > 5:\n",
    "        break"
   ]
  },
  {
   "cell_type": "markdown",
   "id": "c9ef97ad-62cf-4460-bbba-a7b89f242b49",
   "metadata": {},
   "source": [
    "## Text Generator"
   ]
  },
  {
   "cell_type": "markdown",
   "id": "40e22765-6ecb-4731-997c-192fb26b1f9e",
   "metadata": {},
   "source": [
    "### Vicuna"
   ]
  },
  {
   "cell_type": "code",
   "execution_count": null,
   "id": "9616077e-a6d2-487d-802b-1a992daa998b",
   "metadata": {},
   "outputs": [],
   "source": [
    "import torch\n",
    "\n",
    "from anki_ai_helper.LLM.vicuna_7b_v15 import Vicuna7Bv15\n",
    "\n",
    "SYSTEM_PROMPT = \"As a language model assisting with German language learning, provide precise explanations, examples, and translations for various German words. Focus on delivering responses in a structured, concise format, without adding any extra information or notes.\"\n",
    "QUERY_PROMPT = \"Provide the singular and plural forms of the German noun 'der Apfel', with their translations in parentheses. Use 'Singular:' for the singular form with its article, and 'Plural:' for the plural form with its article.\"\n",
    "\n",
    "with torch.cuda.amp.autocast(dtype=torch.bfloat16):\n",
    "    with Vicuna7Bv15(SYSTEM_PROMPT) as vicuna:\n",
    "        print(vicuna.shoot(QUERY_PROMPT))"
   ]
  },
  {
   "cell_type": "markdown",
   "id": "92e900aa-aaeb-4ddd-9391-426f9e16b70f",
   "metadata": {},
   "source": [
    "### Mistral"
   ]
  },
  {
   "cell_type": "code",
   "execution_count": null,
   "id": "10271668-85af-4113-9fce-8aa7b002b4bc",
   "metadata": {},
   "outputs": [],
   "source": [
    "import torch\n",
    "\n",
    "from anki_ai_helper.LLM.mistral_7b_instruct_v02 import Mistral7BInstructV02\n",
    "\n",
    "SYSTEM_PROMPT = \"As a language model assisting with German language learning, provide precise explanations, examples, and translations for various German words. Focus on delivering responses in a structured, concise format, without adding any extra information or notes.\"\n",
    "QUERY_PROMPT = \"Provide the singular and plural forms of the German noun 'der Apfel', with their translations in parentheses. Use 'Singular:' for the singular form with its article, and 'Plural:' for the plural form with its article.\"\n",
    "\n",
    "with torch.cuda.amp.autocast(dtype=torch.bfloat16):\n",
    "    with Mistral7BInstructV02(SYSTEM_PROMPT) as vicuna:\n",
    "        print(vicuna.shoot(QUERY_PROMPT))"
   ]
  },
  {
   "cell_type": "markdown",
   "id": "102984ce-7049-4fa7-87fc-eefad5ac3162",
   "metadata": {},
   "source": [
    "## Text to Speech"
   ]
  },
  {
   "cell_type": "code",
   "execution_count": null,
   "id": "9e88528a-3e01-4c8f-985a-2154d96710f4",
   "metadata": {},
   "outputs": [],
   "source": [
    "from datetime import datetime\n",
    "\n",
    "from anki_ai_helper.T2S.tts_v2 import TTSV2\n",
    "from anki_ai_helper.helper import io as io_utils\n",
    "\n",
    "TEMP_DIR = io_utils.create_temp_directory(f'text_to_speech')\n",
    "T2S_OUTPUT_FILENAME = f\"TTS_{datetime.now().strftime('%y%m%d-%H%M%S')}\"\n",
    "TEXT = \"A curious fox named Finn discovered a hidden grove in the enchanted forest, where fireflies danced around a crystal pond, whispering tales of starlit secrets.\"\n",
    "\n",
    "with TTSV2('en', TEMP_DIR) as tts:\n",
    "    tts.shoot(TEXT, T2S_OUTPUT_FILENAME)"
   ]
  },
  {
   "cell_type": "markdown",
   "id": "9bc44efd-70b5-4586-9fc5-ebe530ad8b15",
   "metadata": {},
   "source": [
    "## Anki Deck"
   ]
  },
  {
   "cell_type": "code",
   "execution_count": null,
   "id": "5262f3da-e042-4732-96d1-017f953f5b59",
   "metadata": {},
   "outputs": [],
   "source": [
    "from anki_ai_helper.anki.style.two_sentence_puzzler import TwoSentencePuzzlerStyle, TwoSentencePuzzlerFields, TwoSentencePuzzlerNote\n",
    "from anki_ai_helper.anki.deck import AnkiDeck\n",
    "\n",
    "from anki_ai_helper.helper import io as io_helper\n",
    "\n",
    "deck_style = TwoSentencePuzzlerStyle()\n",
    "deck_fields = TwoSentencePuzzlerFields()\n",
    "deck = AnkiDeck(deck_name='example', style=deck_style, fields=deck_fields)\n",
    "note = TwoSentencePuzzlerNote({\n",
    "    \"word\": 'sehr',\n",
    "    \"word_trans\": 'very',\n",
    "    \"1_pzl\": 'Das Wetter heute ist .... schön. (Hint: An adverb to enhance \\'schön\\')',\n",
    "    \"1_fil\": 'Das Wetter heute ist sehr schön.',\n",
    "    \"1_trans\": 'The weather today is very nice.',\n",
    "    \"1_pzl_vce\": '',\n",
    "    \"1_fil_vce\": '',\n",
    "    \"1_trans_vce\": '',\n",
    "    \"2_pzl\": 'Ich möchte ..... Kaffee trinken. (Hint: An indefinite article for \\'Kaffee\\')',\n",
    "    \"2_fil\": 'Ich möchte einen Kaffee trinken.',\n",
    "    \"2_trans\": 'I would like to drink a coffee.',\n",
    "    \"2_pzl_vce\": '',\n",
    "    \"2_fil_vce\": '',\n",
    "    \"2_trans_vce\": '',\n",
    "    \"expl_1\": 'The word \\'sehr\\' enhances adjectives or adverbs, similar to \\'very\\' in English.',\n",
    "    \"expl_2\": '\\'Einen\\' is the accusative form of the indefinite article \\'ein\\' used for masculine nouns like \\'Kaffee\\'.',\n",
    "})\n",
    "\n",
    "deck.add_note(note)\n",
    "\n",
    "deck_path = deck.save([])\n",
    "assert deck_path != None\n",
    "\n",
    "n_deleted_files = io_helper.delete_file(deck_path)\n",
    "assert n_deleted_files == 1"
   ]
  },
  {
   "cell_type": "markdown",
   "id": "26de298c-cca9-4cba-a93b-17af58ccd658",
   "metadata": {},
   "source": [
    "## Text to Image"
   ]
  },
  {
   "cell_type": "code",
   "execution_count": null,
   "id": "833430e6-dc2a-4e85-babc-c9698208f3a2",
   "metadata": {},
   "outputs": [],
   "source": [
    "from IPython.display import Image\n",
    "from anki_ai_helper.T2I.stable_diffusion_v15 import StableDiffusionV15\n",
    "\n",
    "prompt = 'A tiny, fluffy kitten in oversized glasses and a lab coat.'\n",
    "\n",
    "with StableDiffusionV15() as t2i:\n",
    "    image, image_path = t2i.run(prompt=prompt, filename='cute_kitten')\n",
    "    display(Image(filename=image_path))\n",
    "\n",
    "    n_deleted_files = io_helper.delete_file(image_path)\n",
    "    assert n_deleted_files == 1"
   ]
  },
  {
   "cell_type": "markdown",
   "id": "1cea276e-21a1-425d-85c4-79e09a0774eb",
   "metadata": {},
   "source": [
    "## Anki Styles"
   ]
  },
  {
   "cell_type": "markdown",
   "id": "afc0df33-99f4-4c55-b72e-165f7629ae40",
   "metadata": {},
   "source": [
    "#### AI-SprachMeister (CSV File)"
   ]
  },
  {
   "cell_type": "code",
   "execution_count": null,
   "id": "2cd81410-4043-4a2d-9626-45389a901315",
   "metadata": {},
   "outputs": [],
   "source": [
    "from anki_ai_helper.LLM.mistral_7b_instruct_v02 import Mistral7BInstructV02\n",
    "from anki_ai_helper.anki.ai_sprach_meister import AiSprachMeister\n",
    "from anki_ai_helper.dataset.german_word_list import GermanWordList\n",
    "\n",
    "word_list = GermanWordList(f=0, t=1100)\n",
    "name = \"AI-SprachMeister: 4000 German Words in Context\"\n",
    "\n",
    "anki_deck = AiSprachMeister(Mistral7BInstructV02, word_list, name)\n",
    "\n",
    "anki_deck.generate_sentences()\n",
    "anki_deck.fetch_extra_info()\n",
    "anki_deck.to_voice()\n",
    "anki_deck.convert_to_mp3()\n",
    "anki_deck.package_deck(1000, n_decks=1)"
   ]
  },
  {
   "cell_type": "markdown",
   "id": "b2df8fe6",
   "metadata": {},
   "source": [
    "#### AI-SprachMeister (Dictionary)"
   ]
  },
  {
   "cell_type": "code",
   "execution_count": null,
   "id": "929f8e9f-4071-4235-8b70-269f7a7c6299",
   "metadata": {},
   "outputs": [],
   "source": [
    "from anki_ai_helper.LLM.mistral_7b_instruct_v02 import Mistral7BInstructV02\n",
    "from anki_ai_helper.anki.ai_sprach_meister import AiSprachMeister\n",
    "from anki_ai_helper.dataset.dict_word_list import DictWordList\n",
    "\n",
    "NOUN_TYPE = \"Noun\"\n",
    "VERB_TYPE = \"Verb\"\n",
    "OTHER_TYPE = \"Other\"\n",
    "\n",
    "entries = {\n",
    "    'gehen': VERB_TYPE,\n",
    "    'der Apfel': NOUN_TYPE,\n",
    "    'respektvoll': OTHER_TYPE,\n",
    "}\n",
    "word_list = DictWordList(entries)\n",
    "name = \"AI-SprachMeister (my words)\"\n",
    "\n",
    "anki_deck = AiSprachMeister(Mistral7BInstructV02, word_list, name)\n",
    "anki_deck.generate_sentences()\n",
    "anki_deck.fetch_extra_info()\n",
    "anki_deck.to_voice()\n",
    "anki_deck.convert_to_mp3()\n",
    "anki_deck.package_deck(1000)"
   ]
  },
  {
   "cell_type": "markdown",
   "id": "8201b334",
   "metadata": {},
   "source": [
    "#### Langenscheidt"
   ]
  },
  {
   "cell_type": "code",
   "execution_count": null,
   "id": "55f85b9e",
   "metadata": {},
   "outputs": [],
   "source": [
    "from anki_ai_helper.anki.langenscheidt import Langenscheidt\n",
    "\n",
    "\n",
    "anki_deck = Langenscheidt(\"Langenscheidt-2000\")\n",
    "anki_deck.fill_sentences()\n",
    "# anki_deck.fetch_extra_info()\n",
    "# anki_deck.to_voice()\n",
    "# anki_deck.convert_to_mp3()\n",
    "anki_deck.package_deck()"
   ]
  }
 ],
 "metadata": {
  "kernelspec": {
   "display_name": "Python 3 (ipykernel)",
   "language": "python",
   "name": "python3"
  },
  "language_info": {
   "codemirror_mode": {
    "name": "ipython",
    "version": 3
   },
   "file_extension": ".py",
   "mimetype": "text/x-python",
   "name": "python",
   "nbconvert_exporter": "python",
   "pygments_lexer": "ipython3",
   "version": "3.10.12"
  }
 },
 "nbformat": 4,
 "nbformat_minor": 5
}
